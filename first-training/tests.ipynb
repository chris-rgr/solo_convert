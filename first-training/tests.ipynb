{
 "cells": [
  {
   "cell_type": "code",
   "id": "initial_id",
   "metadata": {
    "collapsed": true,
    "ExecuteTime": {
     "end_time": "2024-04-22T13:25:28.511223Z",
     "start_time": "2024-04-22T13:25:28.507147Z"
    }
   },
   "source": [
    "import json\n",
    "\n",
    "print('Hello world')"
   ],
   "outputs": [
    {
     "name": "stdout",
     "output_type": "stream",
     "text": [
      "Hello world\n"
     ]
    }
   ],
   "execution_count": 2
  },
  {
   "metadata": {
    "ExecuteTime": {
     "end_time": "2024-04-22T15:24:27.895775Z",
     "start_time": "2024-04-22T15:24:27.890603Z"
    }
   },
   "cell_type": "code",
   "source": [
    "import os\n",
    "print(os.getcwd())"
   ],
   "id": "6cbe052025a48ec6",
   "outputs": [
    {
     "name": "stdout",
     "output_type": "stream",
     "text": [
      "/Users/thielu/projects/bachelor-thesis/first-training\n"
     ]
    }
   ],
   "execution_count": 1
  },
  {
   "metadata": {
    "ExecuteTime": {
     "end_time": "2024-04-22T15:31:08.301287Z",
     "start_time": "2024-04-22T15:31:08.291298Z"
    }
   },
   "cell_type": "code",
   "source": [
    "import json\n",
    "\n",
    "with open('./data/annotation_definitions.json') as f:\n",
    "    annotation_definitions = json.load(f)\n",
    "    \n",
    "known_labels = {}\n",
    "for annotation_definition in annotation_definitions['annotationDefinitions']:\n",
    "    if annotation_definition['@type'] == 'type.unity.com/unity.solo.InstanceSegmentationAnnotation':\n",
    "        for label in annotation_definition['spec']:\n",
    "            known_labels[label['label_name']] = label['label_id']\n",
    "print(known_labels)"
   ],
   "id": "5ac898b7330677ce",
   "outputs": [
    {
     "name": "stdout",
     "output_type": "stream",
     "text": [
      "{'instrument_scalpel': 1, 'instrument_forceps_dissecting': 2, 'container_tray': 3, 'container_kidneybasin': 4, 'instrument_scissors': 5, 'instrument_forceps_vascular': 6, 'instrument_tweezers': 7, 'instrument_retractor_thoractomy': 8, 'container_bowl': 9, 'instrument_retractor': 10, 'instrument_needleHolder': 11}\n"
     ]
    }
   ],
   "execution_count": 9
  },
  {
   "metadata": {
    "ExecuteTime": {
     "end_time": "2024-04-22T15:35:47.837171Z",
     "start_time": "2024-04-22T15:35:47.827419Z"
    }
   },
   "cell_type": "code",
   "source": [
    "import os\n",
    "\n",
    "folders = [ f.path for f in os.scandir('./data') if f.is_dir() ]\n",
    "print(folders)"
   ],
   "id": "cd3b44ee0663d768",
   "outputs": [
    {
     "name": "stdout",
     "output_type": "stream",
     "text": [
      "['./data/sequence.17', './data/sequence.10', './data/sequence.5', './data/sequence.19', './data/sequence.2', './data/sequence.3', './data/sequence.18', './data/sequence.4', './data/sequence.11', './data/sequence.16', './data/sequence.13', './data/sequence.14', './data/sequence.8', './data/sequence.1', './data/sequence.6', './data/sequence.7', './data/sequence.0', './data/sequence.9', './data/sequence.15', './data/sequence.12']\n"
     ]
    }
   ],
   "execution_count": 12
  },
  {
   "metadata": {},
   "cell_type": "code",
   "outputs": [],
   "execution_count": null,
   "source": [
    "images = []\n",
    "for folder in folders:\n",
    "    "
   ],
   "id": "26b7572a474e63af"
  }
 ],
 "metadata": {
  "kernelspec": {
   "display_name": "Python 3",
   "language": "python",
   "name": "python3"
  },
  "language_info": {
   "codemirror_mode": {
    "name": "ipython",
    "version": 2
   },
   "file_extension": ".py",
   "mimetype": "text/x-python",
   "name": "python",
   "nbconvert_exporter": "python",
   "pygments_lexer": "ipython2",
   "version": "2.7.6"
  }
 },
 "nbformat": 4,
 "nbformat_minor": 5
}
