{
 "cells": [
  {
   "metadata": {
    "ExecuteTime": {
     "end_time": "2024-04-19T15:33:07.568203Z",
     "start_time": "2024-04-19T15:33:07.564629Z"
    }
   },
   "cell_type": "code",
   "source": "print('Hello world')",
   "id": "2e880f8a47bc65d",
   "outputs": [
    {
     "name": "stdout",
     "output_type": "stream",
     "text": [
      "Hello world\n"
     ]
    }
   ],
   "execution_count": 2
  },
  {
   "metadata": {
    "ExecuteTime": {
     "end_time": "2024-04-19T15:33:09.360068Z",
     "start_time": "2024-04-19T15:33:07.573196Z"
    }
   },
   "cell_type": "code",
   "source": "from ultralytics import YOLO",
   "id": "37a0d09277888b20",
   "outputs": [
    {
     "name": "stderr",
     "output_type": "stream",
     "text": [
      "/Library/Python/3.9/site-packages/urllib3/__init__.py:35: NotOpenSSLWarning: urllib3 v2 only supports OpenSSL 1.1.1+, currently the 'ssl' module is compiled with 'LibreSSL 2.8.3'. See: https://github.com/urllib3/urllib3/issues/3020\n",
      "  warnings.warn(\n"
     ]
    }
   ],
   "execution_count": 3
  },
  {
   "metadata": {
    "ExecuteTime": {
     "end_time": "2024-04-19T15:33:09.404725Z",
     "start_time": "2024-04-19T15:33:09.361742Z"
    }
   },
   "cell_type": "code",
   "source": "model = YOLO(\"yolov8n.pt\")",
   "id": "320f0f0d3a61788c",
   "outputs": [],
   "execution_count": 4
  }
 ],
 "metadata": {
  "kernelspec": {
   "display_name": "Python 3",
   "language": "python",
   "name": "python3"
  },
  "language_info": {
   "codemirror_mode": {
    "name": "ipython",
    "version": 2
   },
   "file_extension": ".py",
   "mimetype": "text/x-python",
   "name": "python",
   "nbconvert_exporter": "python",
   "pygments_lexer": "ipython2",
   "version": "2.7.6"
  }
 },
 "nbformat": 4,
 "nbformat_minor": 5
}
